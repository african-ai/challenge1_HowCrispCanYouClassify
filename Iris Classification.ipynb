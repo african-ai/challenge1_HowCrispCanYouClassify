{
 "cells": [
  {
   "cell_type": "markdown",
   "metadata": {},
   "source": [
    "# Iris Classification\n",
    "Iris Classification using a Neural Network model\n",
    "\n",
    "Let's first import the required libraries."
   ]
  },
  {
   "cell_type": "code",
   "execution_count": 789,
   "metadata": {},
   "outputs": [],
   "source": [
    "import numpy as np\n",
    "import matplotlib.pyplot as plt\n",
    "import pandas as pd\n",
    "import tensorflow as tf\n",
    "\n",
    "%matplotlib inline\n",
    "plt.rcParams['figure.figsize'] = (16.0, 5.0)\n",
    "np.random.seed(1) # For replication of the models\n",
    "\n",
    "assert tf.__version__ == '1.1.0'\n",
    "assert np.version.version == '1.12.1'"
   ]
  },
  {
   "cell_type": "markdown",
   "metadata": {},
   "source": [
    "Now let's look at the what the data looks like. How about the first 5 rows?"
   ]
  },
  {
   "cell_type": "code",
   "execution_count": 790,
   "metadata": {},
   "outputs": [
    {
     "name": "stdout",
     "output_type": "stream",
     "text": [
      "Shape:  (110, 6)\n",
      "Columns:  Index(['Unnamed: 0', '0', '1', '2', '3', 'labels'], dtype='object')\n",
      "Labels:  ['Iris-virginica' 'Iris-versicolor' 'Iris-setosa']\n"
     ]
    },
    {
     "data": {
      "text/html": [
       "<div>\n",
       "<style scoped>\n",
       "    .dataframe tbody tr th:only-of-type {\n",
       "        vertical-align: middle;\n",
       "    }\n",
       "\n",
       "    .dataframe tbody tr th {\n",
       "        vertical-align: top;\n",
       "    }\n",
       "\n",
       "    .dataframe thead th {\n",
       "        text-align: right;\n",
       "    }\n",
       "</style>\n",
       "<table border=\"1\" class=\"dataframe\">\n",
       "  <thead>\n",
       "    <tr style=\"text-align: right;\">\n",
       "      <th></th>\n",
       "      <th>Unnamed: 0</th>\n",
       "      <th>0</th>\n",
       "      <th>1</th>\n",
       "      <th>2</th>\n",
       "      <th>3</th>\n",
       "      <th>labels</th>\n",
       "    </tr>\n",
       "  </thead>\n",
       "  <tbody>\n",
       "    <tr>\n",
       "      <th>0</th>\n",
       "      <td>0</td>\n",
       "      <td>6.3</td>\n",
       "      <td>2.9</td>\n",
       "      <td>5.6</td>\n",
       "      <td>1.8</td>\n",
       "      <td>Iris-virginica</td>\n",
       "    </tr>\n",
       "    <tr>\n",
       "      <th>1</th>\n",
       "      <td>1</td>\n",
       "      <td>5.6</td>\n",
       "      <td>3.0</td>\n",
       "      <td>4.5</td>\n",
       "      <td>1.5</td>\n",
       "      <td>Iris-versicolor</td>\n",
       "    </tr>\n",
       "    <tr>\n",
       "      <th>2</th>\n",
       "      <td>2</td>\n",
       "      <td>7.9</td>\n",
       "      <td>3.8</td>\n",
       "      <td>6.4</td>\n",
       "      <td>2.0</td>\n",
       "      <td>Iris-virginica</td>\n",
       "    </tr>\n",
       "    <tr>\n",
       "      <th>3</th>\n",
       "      <td>3</td>\n",
       "      <td>6.5</td>\n",
       "      <td>2.8</td>\n",
       "      <td>4.6</td>\n",
       "      <td>1.5</td>\n",
       "      <td>Iris-versicolor</td>\n",
       "    </tr>\n",
       "    <tr>\n",
       "      <th>4</th>\n",
       "      <td>4</td>\n",
       "      <td>5.0</td>\n",
       "      <td>2.0</td>\n",
       "      <td>3.5</td>\n",
       "      <td>1.0</td>\n",
       "      <td>Iris-versicolor</td>\n",
       "    </tr>\n",
       "  </tbody>\n",
       "</table>\n",
       "</div>"
      ],
      "text/plain": [
       "   Unnamed: 0    0    1    2    3           labels\n",
       "0           0  6.3  2.9  5.6  1.8   Iris-virginica\n",
       "1           1  5.6  3.0  4.5  1.5  Iris-versicolor\n",
       "2           2  7.9  3.8  6.4  2.0   Iris-virginica\n",
       "3           3  6.5  2.8  4.6  1.5  Iris-versicolor\n",
       "4           4  5.0  2.0  3.5  1.0  Iris-versicolor"
      ]
     },
     "execution_count": 790,
     "metadata": {},
     "output_type": "execute_result"
    }
   ],
   "source": [
    "df = pd.read_csv('data/iris_train.csv')\n",
    "print(\"Shape: \", df.shape)\n",
    "print(\"Columns: \", df.columns)\n",
    "print(\"Labels: \", df.labels.unique())\n",
    "df.head(5)"
   ]
  },
  {
   "cell_type": "markdown",
   "metadata": {},
   "source": [
    "From the shape, it looks like there are 110 records in the dataset\n",
    "\n",
    "There are 3 types of classes - `Iris-virginica`, `Iris-versicolor`, `Iris-setosa` \n",
    "\n",
    "Let's drop the first column since we don't need it"
   ]
  },
  {
   "cell_type": "code",
   "execution_count": 791,
   "metadata": {},
   "outputs": [
    {
     "data": {
      "text/html": [
       "<div>\n",
       "<style scoped>\n",
       "    .dataframe tbody tr th:only-of-type {\n",
       "        vertical-align: middle;\n",
       "    }\n",
       "\n",
       "    .dataframe tbody tr th {\n",
       "        vertical-align: top;\n",
       "    }\n",
       "\n",
       "    .dataframe thead th {\n",
       "        text-align: right;\n",
       "    }\n",
       "</style>\n",
       "<table border=\"1\" class=\"dataframe\">\n",
       "  <thead>\n",
       "    <tr style=\"text-align: right;\">\n",
       "      <th></th>\n",
       "      <th>0</th>\n",
       "      <th>1</th>\n",
       "      <th>2</th>\n",
       "      <th>3</th>\n",
       "      <th>labels</th>\n",
       "    </tr>\n",
       "  </thead>\n",
       "  <tbody>\n",
       "    <tr>\n",
       "      <th>0</th>\n",
       "      <td>6.3</td>\n",
       "      <td>2.9</td>\n",
       "      <td>5.6</td>\n",
       "      <td>1.8</td>\n",
       "      <td>Iris-virginica</td>\n",
       "    </tr>\n",
       "    <tr>\n",
       "      <th>1</th>\n",
       "      <td>5.6</td>\n",
       "      <td>3.0</td>\n",
       "      <td>4.5</td>\n",
       "      <td>1.5</td>\n",
       "      <td>Iris-versicolor</td>\n",
       "    </tr>\n",
       "    <tr>\n",
       "      <th>2</th>\n",
       "      <td>7.9</td>\n",
       "      <td>3.8</td>\n",
       "      <td>6.4</td>\n",
       "      <td>2.0</td>\n",
       "      <td>Iris-virginica</td>\n",
       "    </tr>\n",
       "    <tr>\n",
       "      <th>3</th>\n",
       "      <td>6.5</td>\n",
       "      <td>2.8</td>\n",
       "      <td>4.6</td>\n",
       "      <td>1.5</td>\n",
       "      <td>Iris-versicolor</td>\n",
       "    </tr>\n",
       "    <tr>\n",
       "      <th>4</th>\n",
       "      <td>5.0</td>\n",
       "      <td>2.0</td>\n",
       "      <td>3.5</td>\n",
       "      <td>1.0</td>\n",
       "      <td>Iris-versicolor</td>\n",
       "    </tr>\n",
       "  </tbody>\n",
       "</table>\n",
       "</div>"
      ],
      "text/plain": [
       "     0    1    2    3           labels\n",
       "0  6.3  2.9  5.6  1.8   Iris-virginica\n",
       "1  5.6  3.0  4.5  1.5  Iris-versicolor\n",
       "2  7.9  3.8  6.4  2.0   Iris-virginica\n",
       "3  6.5  2.8  4.6  1.5  Iris-versicolor\n",
       "4  5.0  2.0  3.5  1.0  Iris-versicolor"
      ]
     },
     "execution_count": 791,
     "metadata": {},
     "output_type": "execute_result"
    }
   ],
   "source": [
    "df_clean = df.drop(columns=['Unnamed: 0'])\n",
    "df_clean.head(5)"
   ]
  },
  {
   "cell_type": "markdown",
   "metadata": {},
   "source": [
    "Now let's visualize that data in multiple 2D scatter plots."
   ]
  },
  {
   "cell_type": "code",
   "execution_count": 792,
   "metadata": {},
   "outputs": [
    {
     "data": {
      "text/plain": [
       "<matplotlib.axes._subplots.AxesSubplot at 0x131ab0128>"
      ]
     },
     "execution_count": 792,
     "metadata": {},
     "output_type": "execute_result"
    },
    {
     "data": {
      "image/png": "[encoded data removed]",
      "text/plain": [
       "<Figure size 1152x360 with 3 Axes>"
      ]
     },
     "metadata": {},
     "output_type": "display_data"
    },
    {
     "data": {
      "image/png": "[encoded data removed]",
      "text/plain": [
       "<Figure size 1152x360 with 3 Axes>"
      ]
     },
     "metadata": {},
     "output_type": "display_data"
    }
   ],
   "source": [
    "fig1, ax1 = plt.subplots(ncols=3)\n",
    "fig2, ax2 = plt.subplots(ncols=3)\n",
    "category_map = {'Iris-virginica': 'red', 'Iris-versicolor': 'blue', 'Iris-setosa': 'green'}\n",
    "df.plot.scatter(x='3', y='0', color=[category_map.get(label, 'black') for label in df.labels], ax=ax1[0], title=\"Features 3 and 0\")\n",
    "df.plot.scatter(x='3', y='1', color=[category_map.get(label, 'black') for label in df.labels], ax=ax1[1], title=\"Features 3 and 1\")\n",
    "df.plot.scatter(x='2', y='1', color=[category_map.get(label, 'black') for label in df.labels], ax=ax1[2], title=\"Features 2 and 1\")\n",
    "df.plot.scatter(x='3', y='2', color=[category_map.get(label, 'black') for label in df.labels], ax=ax2[0], title=\"Features 3 and 2\")\n",
    "df.plot.scatter(x='2', y='0', color=[category_map.get(label, 'black') for label in df.labels], ax=ax2[1], title=\"Features 2 and 0\")\n",
    "df.plot.scatter(x='1', y='0', color=[category_map.get(label, 'black') for label in df.labels], ax=ax2[2], title=\"Features 1 and 0\")\n"
   ]
  },
  {
   "cell_type": "markdown",
   "metadata": {},
   "source": [
    "## Normalization\n",
    "Let's normalize the data. Normalization is only done on the inputs\n",
    "\n",
    "We need to convert our DataFrame into a numpy array first"
   ]
  },
  {
   "cell_type": "code",
   "execution_count": 793,
   "metadata": {},
   "outputs": [
    {
     "name": "stdout",
     "output_type": "stream",
     "text": [
      "Shape:  (110, 5)\n",
      "[[6.3 2.9 5.6 1.8 'Iris-virginica']\n",
      " [5.6 3.0 4.5 1.5 'Iris-versicolor']\n",
      " [7.9 3.8 6.4 2.0 'Iris-virginica']\n",
      " [6.5 2.8 4.6 1.5 'Iris-versicolor']\n",
      " [5.0 2.0 3.5 1.0 'Iris-versicolor']]\n"
     ]
    }
   ],
   "source": [
    "# Convert Pandas DataFrame to numpy array, ignoring the index\n",
    "iris_data = df_clean.values\n",
    "assert iris_data.shape == df_clean.shape\n",
    "print(\"Shape: \", iris_data.shape)\n",
    "print(iris_data[:5]) # First 5 values"
   ]
  },
  {
   "cell_type": "markdown",
   "metadata": {},
   "source": [
    "Now we can get the inputs X (features) and outputs Y (labels)"
   ]
  },
  {
   "cell_type": "code",
   "execution_count": 794,
   "metadata": {},
   "outputs": [
    {
     "name": "stdout",
     "output_type": "stream",
     "text": [
      "X:  [[ 6.3  2.9  5.6  1.8]\n",
      " [ 5.6  3.   4.5  1.5]]\n",
      "Y:  [[0 0 1]\n",
      " [0 1 0]\n",
      " [0 0 1]\n",
      " [0 1 0]\n",
      " [0 1 0]]\n"
     ]
    },
    {
     "data": {
      "text/plain": [
       "0     Iris-virginica\n",
       "1    Iris-versicolor\n",
       "2        Iris-setosa\n",
       "dtype: category\n",
       "Categories (3, object): [Iris-setosa, Iris-versicolor, Iris-virginica]"
      ]
     },
     "execution_count": 794,
     "metadata": {},
     "output_type": "execute_result"
    }
   ],
   "source": [
    "X_data = df_clean.drop(columns=['labels']).values # inputs\n",
    "Y_labels = df_clean.filter(['labels']) # labels\n",
    "Y_dummies = pd.get_dummies(Y_labels, columns=['labels'])\n",
    "categories = pd.Series(['Iris-virginica', 'Iris-versicolor', 'Iris-setosa']).astype('category')\n",
    "Y_data = Y_dummies.values\n",
    "M, features = X_data.shape # number of features and number of inputs / examples\n",
    "assert X_data.shape == (df_clean.shape[0], df_clean.shape[1]-1)\n",
    "assert Y_data.shape == (110, 3)\n",
    "print(\"X: \", X_data[:2])\n",
    "print(\"Y: \", Y_data[:5])\n",
    "categories"
   ]
  },
  {
   "cell_type": "code",
   "execution_count": 795,
   "metadata": {},
   "outputs": [],
   "source": [
    "def normalize_inputs(X):\n",
    "    X_norm = np.array(X)\n",
    "    X_norm /= np.max(np.abs(X_norm),axis=(0, 1))\n",
    "    return X_norm"
   ]
  },
  {
   "cell_type": "code",
   "execution_count": 796,
   "metadata": {},
   "outputs": [
    {
     "name": "stdout",
     "output_type": "stream",
     "text": [
      "[[ 0.79746835  0.36708861  0.70886076  0.2278481 ]\n",
      " [ 0.70886076  0.37974684  0.56962025  0.18987342]\n",
      " [ 1.          0.48101266  0.81012658  0.25316456]]\n"
     ]
    }
   ],
   "source": [
    "X_norm = normalize_inputs(X_data)\n",
    "print(X_norm[:3])"
   ]
  },
  {
   "cell_type": "markdown",
   "metadata": {},
   "source": [
    "Let's visualize that again, but only for features 0 and 3 "
   ]
  },
  {
   "cell_type": "code",
   "execution_count": 797,
   "metadata": {},
   "outputs": [
    {
     "data": {
      "image/png": "[encoded data removed]",
      "text/plain": [
       "<Figure size 360x360 with 1 Axes>"
      ]
     },
     "metadata": {},
     "output_type": "display_data"
    }
   ],
   "source": [
    "plt.rcParams['figure.figsize'] = (5.0, 5.0)\n",
    "plt.scatter(x=X_norm[:,3], y=X_norm[:,0], color=[category_map.get(label, 'black') for label in df.labels])\n",
    "plt.ylabel(\"Feature 0\")\n",
    "plt.xlabel(\"Feature 3\")\n",
    "plt.show()\n"
   ]
  },
  {
   "cell_type": "markdown",
   "metadata": {},
   "source": [
    "Looks good.\n",
    "\n",
    "Now, to allocate Train, Dev and Test Sets at `60:20:20` ratio"
   ]
  },
  {
   "cell_type": "code",
   "execution_count": 798,
   "metadata": {},
   "outputs": [],
   "source": [
    "r1, r2 = int(0.6 * M), int(0.2 * M)\n",
    "X_train, X_dev, X_test = X_norm[:r1,:], X_norm[-(2*r2):-r2,:], X_norm[-r2:,:]\n",
    "Y_train, Y_dev, Y_test = Y_data[:r1, :], Y_data[-(2*r2):-r2,:], Y_data[-r2:,:]\n",
    "\n",
    "\n",
    "assert X_train.shape == (r1, features)\n",
    "assert X_dev.shape == (r2, features)\n",
    "assert X_test.shape == (r2, features)\n",
    "assert Y_train.shape == (r1, 3)\n",
    "assert Y_dev.shape == (r2, 3)\n",
    "assert Y_test.shape == (r2, 3)"
   ]
  },
  {
   "cell_type": "code",
   "execution_count": 799,
   "metadata": {},
   "outputs": [],
   "source": [
    "num_hidden_nodes = [5, 10, 20]  \n",
    "learning_rate = 0.005\n",
    "loss_plot = {5: [], 10: [], 20: []}  \n",
    "weights1 = {5: None, 10: None, 20: None} \n",
    "biases1 = {5: None, 10: None, 20: None}  \n",
    "weights2 = {5: None, 10: None, 20: None}  \n",
    "biases2 = {5: None, 10: None, 20: None}  \n",
    "num_iters = 2000"
   ]
  },
  {
   "cell_type": "markdown",
   "metadata": {},
   "source": [
    "Create the training model"
   ]
  },
  {
   "cell_type": "code",
   "execution_count": 800,
   "metadata": {},
   "outputs": [],
   "source": [
    "def create_train_model(hidden_nodes, num_iters, learning_rate=0.005, interval=50):\n",
    "\n",
    "    # Reset the graph\n",
    "    tf.reset_default_graph()\n",
    "\n",
    "    # Placeholders for input and output data\n",
    "    X = tf.placeholder(shape=(None, 4), dtype=tf.float64, name='X')\n",
    "    Y = tf.placeholder(shape=(None, 3), dtype=tf.float64, name='y')\n",
    "\n",
    "    # Variables for two group of weights between the three layers of the network\n",
    "    W1 = tf.Variable(np.random.rand(features, hidden_nodes))\n",
    "    b1 = tf.Variable(np.random.rand(1,hidden_nodes)) # Bias group 1\n",
    "    W2 = tf.Variable(np.random.rand(hidden_nodes, 3))\n",
    "    b2 = tf.Variable(np.random.rand(1,3)) # Bias group 2\n",
    "\n",
    "    # Create the neural net graph\n",
    "    A1 = tf.nn.relu(tf.add(tf.matmul(X, W1),b1))\n",
    "    Y_est = tf.nn.softmax(tf.add(tf.matmul(A1, W2),b2))\n",
    "\n",
    "    # Define a loss function\n",
    "    loss = tf.reduce_mean(-tf.reduce_sum(Y * tf.log(Y_est), axis=0))\n",
    "    \n",
    "\n",
    "    # Define a train operation to minimize the loss\n",
    "    optimizer = tf.train.GradientDescentOptimizer(learning_rate=learning_rate)\n",
    "    train = optimizer.minimize(loss)\n",
    "\n",
    "    # Initialize variables and run session\n",
    "    init = tf.global_variables_initializer()\n",
    "    sess = tf.Session()\n",
    "    sess.run(init)\n",
    "\n",
    "    # Go through num_iters iterations\n",
    "    for i in range(num_iters):\n",
    "        sess.run([train], feed_dict={X: X_train, Y: Y_train})\n",
    "        sess_loss = sess.run(loss, feed_dict={X: np.asmatrix(X_train), Y: np.asmatrix(Y_train)})\n",
    "        loss_plot[hidden_nodes].append(sess_loss)\n",
    "        weights1 = sess.run(W1)\n",
    "        weights2 = sess.run(W2)\n",
    "        if i % interval == 0:\n",
    "           print(\"loss (hidden nodes: %d, iterations: %d): %.2f\" % (hidden_nodes, interval + i, loss_plot[hidden_nodes][-1]))\n",
    "    \n",
    "    parameters = {\n",
    "        'W1': weights1,\n",
    "        'b1': b1.eval(session=sess),\n",
    "        'W2': weights2,\n",
    "        'b2': b2.eval(session=sess)\n",
    "    }\n",
    "    sess.close()\n",
    "    return parameters"
   ]
  },
  {
   "cell_type": "code",
   "execution_count": 801,
   "metadata": {},
   "outputs": [
    {
     "name": "stdout",
     "output_type": "stream",
     "text": [
      "loss (hidden nodes: 5, iterations: 1000): 26.90\n",
      "loss (hidden nodes: 5, iterations: 2000): 2.64\n",
      "loss (hidden nodes: 5, iterations: 3000): 1.57\n",
      "loss (hidden nodes: 10, iterations: 1000): 23.12\n",
      "loss (hidden nodes: 10, iterations: 2000): 2.30\n",
      "loss (hidden nodes: 10, iterations: 3000): 1.44\n",
      "loss (hidden nodes: 20, iterations: 1000): 27.67\n",
      "loss (hidden nodes: 20, iterations: 2000): 2.22\n",
      "loss (hidden nodes: 20, iterations: 3000): 1.39\n"
     ]
    },
    {
     "data": {
      "text/plain": [
       "<matplotlib.legend.Legend at 0x12fe74860>"
      ]
     },
     "execution_count": 801,
     "metadata": {},
     "output_type": "execute_result"
    },
    {
     "data": {
      "image/png": "[encoded data removed]",
      "text/plain": [
       "<Figure size 864x576 with 1 Axes>"
      ]
     },
     "metadata": {},
     "output_type": "display_data"
    }
   ],
   "source": [
    "# Plot the loss function over iterations\n",
    "num_hidden_nodes = [5, 10, 20]  \n",
    "loss_plot = {5: [], 10: [], 20: []}  \n",
    "weights1 = {5: None, 10: None, 20: None} \n",
    "biases1 = {5: None, 10: None, 20: None}  \n",
    "weights2 = {5: None, 10: None, 20: None}  \n",
    "biases2 = {5: None, 10: None, 20: None}  \n",
    "num_iters = 3000\n",
    "\n",
    "plt.figure(figsize=(12,8))  \n",
    "for hidden_nodes in num_hidden_nodes:  \n",
    "    parameters = create_train_model(hidden_nodes, num_iters, interval=1000)\n",
    "    (weights1[hidden_nodes],\n",
    "     weights2[hidden_nodes],\n",
    "     biases1[hidden_nodes],\n",
    "     biases2[hidden_nodes]) = (parameters['W1'],\n",
    "                          parameters['W2'],\n",
    "                          parameters['b1'],\n",
    "                          parameters['b2']) \n",
    "    plt.plot(range(num_iters), loss_plot[hidden_nodes], label=\"nn: 4-%d-3\" % hidden_nodes)\n",
    "\n",
    "plt.xlabel('Iteration', fontsize=12)  \n",
    "plt.ylabel('Loss', fontsize=12)  \n",
    "plt.legend(fontsize=12)  \n"
   ]
  },
  {
   "cell_type": "markdown",
   "metadata": {},
   "source": [
    "Let's evaluate the models on the dev set"
   ]
  },
  {
   "cell_type": "code",
   "execution_count": 802,
   "metadata": {},
   "outputs": [],
   "source": [
    "def get_predictions(hidden_nodes, X_test):\n",
    "    # Reset the graph\n",
    "    tf.reset_default_graph()\n",
    "    \n",
    "    X_ = tf.placeholder(shape=(None, 4), dtype=tf.float64, name='X_')\n",
    "    Y_ = tf.placeholder(shape=(None, 3), dtype=tf.float64, name='Y_')\n",
    "    W1_ = tf.Variable(weights1[hidden_nodes], name='W1_')\n",
    "    W2_ = tf.Variable(weights2[hidden_nodes], name='W2_')\n",
    "    b1_ = tf.Variable(biases1[hidden_nodes], dtype=tf.float64, name='b1_')\n",
    "    b2_ = tf.Variable(biases2[hidden_nodes], dtype=tf.float64, name='b2_')\n",
    "    \n",
    "    A1_ = tf.nn.relu(tf.matmul(X_, W1_) + b1_)\n",
    "    Y_est_ = tf.nn.softmax(tf.matmul(A1_, W2_) + b2_)\n",
    "    \n",
    "    predictions = []\n",
    "    \n",
    "    # Initialize variables and run session\n",
    "    init = tf.global_variables_initializer()\n",
    "    sess = tf.Session()\n",
    "    sess.run(init)\n",
    "    \n",
    "    predictions = np.rint(sess.run(Y_est_, feed_dict={X_: X_test}))\n",
    "    predictions = np.array(predictions).astype(int)\n",
    "    \n",
    "    sess.close()\n",
    "    return predictions"
   ]
  },
  {
   "cell_type": "code",
   "execution_count": 803,
   "metadata": {},
   "outputs": [
    {
     "name": "stdout",
     "output_type": "stream",
     "text": [
      "Network architecture 4-5-3: \n",
      "Accuracy: 1.0\n",
      "Network architecture 4-10-3: \n",
      "Accuracy: 1.0\n",
      "Network architecture 4-20-3: \n",
      "Accuracy: 1.0\n"
     ]
    }
   ],
   "source": [
    "# Predictions on dev set\n",
    "for hidden_nodes in num_hidden_nodes: # For testing different architectures\n",
    "    predictions = get_predictions(hidden_nodes, X_dev)\n",
    "    accuracy = (predictions == Y_dev).all(axis=1).mean()\n",
    "    print('Network architecture 4-{}-3: \\nAccuracy: {}'.format(hidden_nodes, accuracy))\n"
   ]
  },
  {
   "cell_type": "markdown",
   "metadata": {},
   "source": [
    "All the above architectures seem up to the task. We'll select the simplest one - `4-5-3`"
   ]
  },
  {
   "cell_type": "code",
   "execution_count": 804,
   "metadata": {
    "scrolled": true
   },
   "outputs": [
    {
     "name": "stdout",
     "output_type": "stream",
     "text": [
      "Network architecture 4-5-3: \n",
      "Accuracy: 1.0\n"
     ]
    }
   ],
   "source": [
    "# Predictions on test set\n",
    "hidden_nodes = 5\n",
    "predictions = get_predictions(hidden_nodes, X_test)\n",
    "accuracy = (predictions == Y_test).all(axis=1).mean()\n",
    "print('Network architecture 4-{}-3: \\nAccuracy: {}'.format(hidden_nodes, accuracy))\n"
   ]
  },
  {
   "cell_type": "markdown",
   "metadata": {},
   "source": [
    "### Labelling Unlabelled data"
   ]
  },
  {
   "cell_type": "code",
   "execution_count": 805,
   "metadata": {},
   "outputs": [
    {
     "name": "stdout",
     "output_type": "stream",
     "text": [
      "Shape:  (110, 6)\n",
      "Columns:  Index(['Unnamed: 0', '0', '1', '2', '3', 'labels'], dtype='object')\n",
      "Labels:  ['Iris-virginica' 'Iris-versicolor' 'Iris-setosa']\n"
     ]
    },
    {
     "data": {
      "text/html": [
       "<div>\n",
       "<style scoped>\n",
       "    .dataframe tbody tr th:only-of-type {\n",
       "        vertical-align: middle;\n",
       "    }\n",
       "\n",
       "    .dataframe tbody tr th {\n",
       "        vertical-align: top;\n",
       "    }\n",
       "\n",
       "    .dataframe thead th {\n",
       "        text-align: right;\n",
       "    }\n",
       "</style>\n",
       "<table border=\"1\" class=\"dataframe\">\n",
       "  <thead>\n",
       "    <tr style=\"text-align: right;\">\n",
       "      <th></th>\n",
       "      <th>Unnamed: 0</th>\n",
       "      <th>0</th>\n",
       "      <th>1</th>\n",
       "      <th>2</th>\n",
       "      <th>3</th>\n",
       "    </tr>\n",
       "  </thead>\n",
       "  <tbody>\n",
       "    <tr>\n",
       "      <th>0</th>\n",
       "      <td>0</td>\n",
       "      <td>7.2</td>\n",
       "      <td>3.6</td>\n",
       "      <td>6.1</td>\n",
       "      <td>2.5</td>\n",
       "    </tr>\n",
       "    <tr>\n",
       "      <th>1</th>\n",
       "      <td>1</td>\n",
       "      <td>4.7</td>\n",
       "      <td>3.2</td>\n",
       "      <td>1.3</td>\n",
       "      <td>0.2</td>\n",
       "    </tr>\n",
       "    <tr>\n",
       "      <th>2</th>\n",
       "      <td>2</td>\n",
       "      <td>4.4</td>\n",
       "      <td>3.2</td>\n",
       "      <td>1.3</td>\n",
       "      <td>0.2</td>\n",
       "    </tr>\n",
       "    <tr>\n",
       "      <th>3</th>\n",
       "      <td>3</td>\n",
       "      <td>4.5</td>\n",
       "      <td>2.3</td>\n",
       "      <td>1.3</td>\n",
       "      <td>0.3</td>\n",
       "    </tr>\n",
       "    <tr>\n",
       "      <th>4</th>\n",
       "      <td>4</td>\n",
       "      <td>6.4</td>\n",
       "      <td>3.2</td>\n",
       "      <td>4.5</td>\n",
       "      <td>1.5</td>\n",
       "    </tr>\n",
       "  </tbody>\n",
       "</table>\n",
       "</div>"
      ],
      "text/plain": [
       "   Unnamed: 0    0    1    2    3\n",
       "0           0  7.2  3.6  6.1  2.5\n",
       "1           1  4.7  3.2  1.3  0.2\n",
       "2           2  4.4  3.2  1.3  0.2\n",
       "3           3  4.5  2.3  1.3  0.3\n",
       "4           4  6.4  3.2  4.5  1.5"
      ]
     },
     "execution_count": 805,
     "metadata": {},
     "output_type": "execute_result"
    }
   ],
   "source": [
    "get_labels = np.array(pd.Series(Y_dummies.columns[np.where(Y_dummies!=0)[1]]))\n",
    "test_df = pd.read_csv('data/iris_test.csv')\n",
    "print(\"Shape: \", df.shape)\n",
    "print(\"Columns: \", df.columns)\n",
    "print(\"Labels: \", df.labels.unique())\n",
    "test_df.head(5)"
   ]
  },
  {
   "cell_type": "code",
   "execution_count": 806,
   "metadata": {},
   "outputs": [
    {
     "data": {
      "text/html": [
       "<div>\n",
       "<style scoped>\n",
       "    .dataframe tbody tr th:only-of-type {\n",
       "        vertical-align: middle;\n",
       "    }\n",
       "\n",
       "    .dataframe tbody tr th {\n",
       "        vertical-align: top;\n",
       "    }\n",
       "\n",
       "    .dataframe thead th {\n",
       "        text-align: right;\n",
       "    }\n",
       "</style>\n",
       "<table border=\"1\" class=\"dataframe\">\n",
       "  <thead>\n",
       "    <tr style=\"text-align: right;\">\n",
       "      <th></th>\n",
       "      <th>0</th>\n",
       "      <th>1</th>\n",
       "      <th>2</th>\n",
       "      <th>3</th>\n",
       "    </tr>\n",
       "  </thead>\n",
       "  <tbody>\n",
       "    <tr>\n",
       "      <th>0</th>\n",
       "      <td>7.2</td>\n",
       "      <td>3.6</td>\n",
       "      <td>6.1</td>\n",
       "      <td>2.5</td>\n",
       "    </tr>\n",
       "    <tr>\n",
       "      <th>1</th>\n",
       "      <td>4.7</td>\n",
       "      <td>3.2</td>\n",
       "      <td>1.3</td>\n",
       "      <td>0.2</td>\n",
       "    </tr>\n",
       "  </tbody>\n",
       "</table>\n",
       "</div>"
      ],
      "text/plain": [
       "     0    1    2    3\n",
       "0  7.2  3.6  6.1  2.5\n",
       "1  4.7  3.2  1.3  0.2"
      ]
     },
     "execution_count": 806,
     "metadata": {},
     "output_type": "execute_result"
    }
   ],
   "source": [
    "test_df_clean = test_df.drop(columns=['Unnamed: 0'])\n",
    "test_df_clean.head(2)"
   ]
  },
  {
   "cell_type": "code",
   "execution_count": 807,
   "metadata": {},
   "outputs": [
    {
     "data": {
      "text/plain": [
       "array([[ 7.2,  3.6,  6.1,  2.5],\n",
       "       [ 4.7,  3.2,  1.3,  0.2]])"
      ]
     },
     "execution_count": 807,
     "metadata": {},
     "output_type": "execute_result"
    }
   ],
   "source": [
    "X_test_data = test_df_clean.values # inputs\n",
    "X_test_data[:2]"
   ]
  },
  {
   "cell_type": "markdown",
   "metadata": {},
   "source": [
    "Let's normalize the test data"
   ]
  },
  {
   "cell_type": "code",
   "execution_count": 808,
   "metadata": {},
   "outputs": [
    {
     "data": {
      "text/plain": [
       "array([[ 1.        ,  0.5       ,  0.84722222,  0.34722222],\n",
       "       [ 0.65277778,  0.44444444,  0.18055556,  0.02777778]])"
      ]
     },
     "execution_count": 808,
     "metadata": {},
     "output_type": "execute_result"
    }
   ],
   "source": [
    "X_test_norm = normalize_inputs(X_test_data)\n",
    "X_test_norm[:2]"
   ]
  },
  {
   "cell_type": "markdown",
   "metadata": {},
   "source": [
    "Now to vizualize the test data"
   ]
  },
  {
   "cell_type": "code",
   "execution_count": 809,
   "metadata": {},
   "outputs": [
    {
     "data": {
      "image/png": "[encoded data removed]",
      "text/plain": [
       "<Figure size 360x360 with 1 Axes>"
      ]
     },
     "metadata": {},
     "output_type": "display_data"
    }
   ],
   "source": [
    "plt.scatter(x=X_test_norm[:,3], y=X_test_norm[:,0])\n",
    "plt.ylabel(\"Feature 0\")\n",
    "plt.xlabel(\"Feature 3\")\n",
    "plt.show()"
   ]
  },
  {
   "cell_type": "markdown",
   "metadata": {},
   "source": [
    "It's clear that the test data has all three type of flowers. Let's label them!"
   ]
  },
  {
   "cell_type": "code",
   "execution_count": 810,
   "metadata": {},
   "outputs": [
    {
     "name": "stdout",
     "output_type": "stream",
     "text": [
      "Predictions:  ((0, 0, 1), (1, 0, 0), (1, 0, 0), (1, 0, 0), (0, 1, 0), (0, 0, 1), (1, 0, 0), (0, 0, 1), (0, 1, 0), (0, 0, 1), (0, 1, 0), (0, 0, 1), (0, 0, 1), (0, 1, 0), (0, 1, 0), (1, 0, 0), (0, 0, 1), (0, 0, 1), (0, 0, 1), (0, 0, 1), (1, 0, 0), (1, 0, 0), (1, 0, 0), (0, 0, 1), (1, 0, 0), (0, 0, 1), (1, 0, 0), (0, 1, 0), (0, 0, 1), (0, 0, 1), (0, 1, 0), (0, 0, 1), (1, 0, 0), (1, 0, 0), (0, 0, 1), (0, 1, 0), (0, 1, 0), (0, 0, 1), (0, 1, 0), (1, 0, 0))\n"
     ]
    }
   ],
   "source": [
    "# Predictions on test data\n",
    "hidden_nodes = 5\n",
    "test_predictions = get_predictions(hidden_nodes, X_test_norm)\n",
    "test_predictions = tuple(map(tuple, test_predictions))\n",
    "print(\"Predictions: \", test_predictions)\n"
   ]
  },
  {
   "cell_type": "markdown",
   "metadata": {},
   "source": [
    "Let's plot the labelled points"
   ]
  },
  {
   "cell_type": "code",
   "execution_count": 811,
   "metadata": {},
   "outputs": [
    {
     "data": {
      "image/png": "[encoded data removed]",
      "text/plain": [
       "<Figure size 360x360 with 1 Axes>"
      ]
     },
     "metadata": {},
     "output_type": "display_data"
    }
   ],
   "source": [
    "category_labels = {(0, 0, 1):'Iris-virginica', (0, 1, 0):'Iris-versicolor', (1, 0, 0):'Iris-setosa'} # Inital mappings\n",
    "category_map_2 = {(0, 0, 1): 'red', (0, 1, 0): 'blue', (1, 0, 0): 'green'}\n",
    "\n",
    "plt.scatter(x=X_test_norm[:,3], y=X_test_norm[:,0],\n",
    "            color=[category_map_2.get(pred, 'black') for pred in test_predictions])\n",
    "plt.ylabel(\"Feature 0\")\n",
    "plt.xlabel(\"Feature 3\")\n",
    "# plt.legend()\n",
    "plt.show()"
   ]
  },
  {
   "cell_type": "markdown",
   "metadata": {},
   "source": [
    "Hmm... It seems we **might** have mislabelled a versicolor as virginica. But that's just one dimension, so it should be fine.\n",
    "\n",
    "Let's populate the submissions file. But first, we convert the predictions to actual labels, then to a pandas DataFrame"
   ]
  },
  {
   "cell_type": "code",
   "execution_count": 812,
   "metadata": {},
   "outputs": [
    {
     "data": {
      "text/html": [
       "<div>\n",
       "<style scoped>\n",
       "    .dataframe tbody tr th:only-of-type {\n",
       "        vertical-align: middle;\n",
       "    }\n",
       "\n",
       "    .dataframe tbody tr th {\n",
       "        vertical-align: top;\n",
       "    }\n",
       "\n",
       "    .dataframe thead th {\n",
       "        text-align: right;\n",
       "    }\n",
       "</style>\n",
       "<table border=\"1\" class=\"dataframe\">\n",
       "  <thead>\n",
       "    <tr style=\"text-align: right;\">\n",
       "      <th></th>\n",
       "      <th>4</th>\n",
       "    </tr>\n",
       "  </thead>\n",
       "  <tbody>\n",
       "    <tr>\n",
       "      <th>0</th>\n",
       "      <td>Iris-virginica</td>\n",
       "    </tr>\n",
       "    <tr>\n",
       "      <th>1</th>\n",
       "      <td>Iris-setosa</td>\n",
       "    </tr>\n",
       "    <tr>\n",
       "      <th>2</th>\n",
       "      <td>Iris-setosa</td>\n",
       "    </tr>\n",
       "  </tbody>\n",
       "</table>\n",
       "</div>"
      ],
      "text/plain": [
       "                4\n",
       "0  Iris-virginica\n",
       "1     Iris-setosa\n",
       "2     Iris-setosa"
      ]
     },
     "execution_count": 812,
     "metadata": {},
     "output_type": "execute_result"
    }
   ],
   "source": [
    "test_prediction_labels = [category_labels.get(pred) for pred in test_predictions]    \n",
    "pd_test_predictions = pd.DataFrame({4: test_prediction_labels})\n",
    "pd_test_predictions.head(3)"
   ]
  },
  {
   "cell_type": "markdown",
   "metadata": {},
   "source": [
    "Send it over to the CSV file!"
   ]
  },
  {
   "cell_type": "code",
   "execution_count": 813,
   "metadata": {},
   "outputs": [],
   "source": [
    "pd_test_predictions.to_csv('submissions/iris_actual_submission.csv', encoding='utf-8')"
   ]
  },
  {
   "cell_type": "code",
   "execution_count": null,
   "metadata": {},
   "outputs": [],
   "source": []
  }
 ],
 "metadata": {
  "kernelspec": {
   "display_name": "Python 3",
   "language": "python",
   "name": "python3"
  },
  "language_info": {
   "codemirror_mode": {
    "name": "ipython",
    "version": 3
   },
   "file_extension": ".py",
   "mimetype": "text/x-python",
   "name": "python",
   "nbconvert_exporter": "python",
   "pygments_lexer": "ipython3",
   "version": "3.6.6"
  }
 },
 "nbformat": 4,
 "nbformat_minor": 2
}
